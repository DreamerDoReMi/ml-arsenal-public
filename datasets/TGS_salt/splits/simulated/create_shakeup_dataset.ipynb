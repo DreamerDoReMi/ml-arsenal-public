{
 "cells": [
  {
   "cell_type": "code",
   "execution_count": 9,
   "metadata": {},
   "outputs": [],
   "source": [
    "from PIL import Image\n",
    "import numpy as np\n",
    "import os\n",
    "from sklearn.model_selection import train_test_split\n",
    "from tqdm import tqdm\n",
    "ROOT='/home/alexanderliao/data/Kaggle/competitions/tgs-salt-identification-challenge/'"
   ]
  },
  {
   "cell_type": "code",
   "execution_count": 10,
   "metadata": {},
   "outputs": [
    {
     "name": "stderr",
     "output_type": "stream",
     "text": [
      "100%|██████████| 500/500 [00:01<00:00, 274.36it/s]\n"
     ]
    }
   ],
   "source": [
    "for i in tqdm(range(500)):\n",
    "    g= open('sim_public'+str(i)+'_1332',\"w+\")\n",
    "    g.close()\n",
    "    g= open('sim_public'+str(i)+'_1332',\"a+\")\n",
    "    g1= open('sim_private'+str(i)+'_2668',\"w+\")\n",
    "    g1.close()\n",
    "    g1= open('sim_private'+str(i)+'_2668',\"a+\")\n",
    "    with open('list_train_4000') as f:\n",
    "        lines = f.read().splitlines()\n",
    "        train,test=train_test_split(lines, test_size=0.333, random_state=42)\n",
    "        for line in train:\n",
    "            g.write(line+'\\n')\n",
    "        for line in test:\n",
    "            g1.write(line+'\\n')\n",
    "    g.close()\n",
    "    g1.close()"
   ]
  },
  {
   "cell_type": "code",
   "execution_count": 12,
   "metadata": {},
   "outputs": [
    {
     "data": {
      "text/plain": [
       "1332.0"
      ]
     },
     "execution_count": 12,
     "metadata": {},
     "output_type": "execute_result"
    }
   ],
   "source": [
    "4000*0.333"
   ]
  },
  {
   "cell_type": "code",
   "execution_count": 13,
   "metadata": {},
   "outputs": [
    {
     "data": {
      "text/plain": [
       "2668"
      ]
     },
     "execution_count": 13,
     "metadata": {},
     "output_type": "execute_result"
    }
   ],
   "source": [
    "4000-1332"
   ]
  },
  {
   "cell_type": "code",
   "execution_count": null,
   "metadata": {},
   "outputs": [],
   "source": []
  }
 ],
 "metadata": {
  "kernelspec": {
   "display_name": "Python 3",
   "language": "python",
   "name": "python3"
  },
  "language_info": {
   "codemirror_mode": {
    "name": "ipython",
    "version": 3
   },
   "file_extension": ".py",
   "mimetype": "text/x-python",
   "name": "python",
   "nbconvert_exporter": "python",
   "pygments_lexer": "ipython3",
   "version": "3.6.5"
  }
 },
 "nbformat": 4,
 "nbformat_minor": 2
}
